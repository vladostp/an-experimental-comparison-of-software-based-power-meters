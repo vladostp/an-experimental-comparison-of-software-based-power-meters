{
 "cells": [
  {
   "attachments": {},
   "cell_type": "markdown",
   "id": "d1cb58d9",
   "metadata": {},
   "source": [
    "Author: Mathilde Jay   \n",
    "Last updated: December 2022.\n",
    "\n",
    "# Total energy consumed per benchmark as reported by each tools"
   ]
  },
  {
   "attachments": {},
   "cell_type": "markdown",
   "id": "1cebcdf8",
   "metadata": {},
   "source": [
    "## Variables and imports\n"
   ]
  },
  {
   "cell_type": "code",
   "execution_count": 2,
   "id": "0c251df6",
   "metadata": {},
   "outputs": [],
   "source": [
    "REPOSITORY_DIR = \"../../\" # TO MODIFY\n",
    "prefix = [REPOSITORY_DIR + \"results/GPU_20_04/\", REPOSITORY_DIR + \"results/GPU_19_04/\"] # ADD AS MANY FOLDER AS YOU NEED\n",
    "#prefix = [REPOSITORY_DIR + \"results/CPU_08_11/\"]"
   ]
  },
  {
   "cell_type": "code",
   "execution_count": 3,
   "id": "47aa349c",
   "metadata": {},
   "outputs": [],
   "source": [
    "import sys\n",
    "sys.path.append(REPOSITORY_DIR + \"code/\")"
   ]
  },
  {
   "cell_type": "code",
   "execution_count": 4,
   "id": "14a39b4d-c0f0-435b-ad91-3a65dc9c9016",
   "metadata": {},
   "outputs": [],
   "source": [
    "from utils.process_results import add_benchmark_id_to_merged_timeseries, cleaning_table\n",
    "from utils.tools import convert_energy_kWh_in_joules\n",
    "import pandas as pd\n",
    "import matplotlib.pyplot as plt"
   ]
  },
  {
   "attachments": {},
   "cell_type": "markdown",
   "id": "1a9ceadc",
   "metadata": {},
   "source": [
    "## Retrieve and merge your data"
   ]
  },
  {
   "cell_type": "code",
   "execution_count": 17,
   "id": "0f87d9db-06d7-4a91-b1a4-1a2b9c5dcf2b",
   "metadata": {},
   "outputs": [],
   "source": [
    "energy_scope_df = pd.concat([pd.read_csv(file + 'es_ts.csv') for file in prefix]) # if energy scope was part of the experiment\n",
    "watt_df = pd.concat([pd.read_csv(file + 'g5k_metrics.csv') for file in prefix])\n",
    "exp_table = pd.concat([pd.read_csv(file + 'processed_table.csv') for file in prefix])\n",
    "\n",
    "exp_table = cleaning_table(exp_table, watt_df, energy_scope_df)\n",
    "\n",
    "grouped_watt_df = watt_df.groupby(by=['timestamp_sec']).mean().reset_index()\n",
    "merged_df = pd.merge(energy_scope_df,grouped_watt_df, on='timestamp_sec', how='outer').sort_values(by=['timestamp_sec'])\n",
    "\n",
    "merged_df['wattmetre_es_diff'] = abs(merged_df['wattmetre_power_watt'] - merged_df['data.data.etotal(W)'])\n",
    "\n",
    "b_df = add_benchmark_id_to_merged_timeseries(exp_table, merged_df)"
   ]
  },
  {
   "cell_type": "code",
   "execution_count": 18,
   "id": "0ec886fb",
   "metadata": {},
   "outputs": [
    {
     "data": {
      "text/plain": [
       "Index(['tool_on_one_process', 'experiment_start', 'experiment_end',\n",
       "       'gpu_0_start_benchmark', 'gpu_0_stop_benchmark',\n",
       "       'gpu_1_start_benchmark', 'gpu_1_stop_benchmark',\n",
       "       'gpu_2_start_benchmark', 'gpu_2_stop_benchmark',\n",
       "       'gpu_3_start_benchmark',\n",
       "       ...\n",
       "       'launch_parallel_script', 'trace_tar_file', 'es_trace_id',\n",
       "       'trace_eprofile', 'error', 'log_dirs', 'tool_PUE',\n",
       "       'bmc_node_power_watt_energy_consumption(kWh)',\n",
       "       'wattmetre_power_watt_energy_consumption(kWh)',\n",
       "       'tool_energy_consumption(kWh)_no_PUE'],\n",
       "      dtype='object', length=164)"
      ]
     },
     "execution_count": 18,
     "metadata": {},
     "output_type": "execute_result"
    }
   ],
   "source": [
    "exp_table.columns"
   ]
  },
  {
   "attachments": {},
   "cell_type": "markdown",
   "id": "ee092684",
   "metadata": {},
   "source": [
    "exp_table contains 164 columns describing the experiments (tool, start and stop timestamps of the experiment and each benchmarks, log files, and results).   \n",
    "Let's check that we have ten experiments for each tool and benchmark:"
   ]
  },
  {
   "cell_type": "code",
   "execution_count": 19,
   "id": "8bf6beb8",
   "metadata": {},
   "outputs": [
    {
     "data": {
      "text/plain": [
       "tool_on_one_process  tool_name                  gpu_0_appli  gpu_0_appli_class\n",
       "False                NoTool                     ep           E                    10\n",
       "                                                idle         sh                   10\n",
       "                                                lu           D                    10\n",
       "                                                mg           D                    10\n",
       "                     carbon_tracker             ep           E                    10\n",
       "                                                idle         sh                   10\n",
       "                                                lu           D                    10\n",
       "                                                mg           D                    10\n",
       "                     codecarbon                 ep           E                    10\n",
       "                                                idle         sh                   10\n",
       "                                                lu           D                    10\n",
       "                                                mg           D                    10\n",
       "                     energy scope               ep           E                    10\n",
       "                                                idle         sh                   10\n",
       "                                                lu           D                    10\n",
       "                                                mg           D                    10\n",
       "                     experiment_impact_tracker  ep           E                    10\n",
       "                                                idle         sh                    4\n",
       "                                                lu           D                    10\n",
       "                                                mg           D                    10\n",
       "Name: experiment_start, dtype: int64"
      ]
     },
     "execution_count": 19,
     "metadata": {},
     "output_type": "execute_result"
    }
   ],
   "source": [
    "exp_table[exp_table['tool_on_one_process']==False].groupby(by=['tool_on_one_process', 'tool_name','gpu_0_appli','gpu_0_appli_class']).count()['experiment_start']"
   ]
  },
  {
   "attachments": {},
   "cell_type": "markdown",
   "id": "fe50647f",
   "metadata": {},
   "source": [
    "Experiment Impact Tracker estimates the energy at the process level. Idle executions kept leading to a crash. \n"
   ]
  },
  {
   "attachments": {},
   "cell_type": "markdown",
   "id": "e5da0764",
   "metadata": {},
   "source": [
    "## Computing the duration of the experiments"
   ]
  },
  {
   "cell_type": "code",
   "execution_count": 20,
   "id": "fc520447",
   "metadata": {},
   "outputs": [],
   "source": [
    "exp_table['benchmark_duration(diff)'] = exp_table['gpu_0_stop_benchmark'] - exp_table['gpu_0_start_benchmark']"
   ]
  },
  {
   "cell_type": "code",
   "execution_count": 21,
   "id": "a80196e3",
   "metadata": {},
   "outputs": [
    {
     "data": {
      "text/html": [
       "<div>\n",
       "<style scoped>\n",
       "    .dataframe tbody tr th:only-of-type {\n",
       "        vertical-align: middle;\n",
       "    }\n",
       "\n",
       "    .dataframe tbody tr th {\n",
       "        vertical-align: top;\n",
       "    }\n",
       "\n",
       "    .dataframe thead th {\n",
       "        text-align: right;\n",
       "    }\n",
       "</style>\n",
       "<table border=\"1\" class=\"dataframe\">\n",
       "  <thead>\n",
       "    <tr style=\"text-align: right;\">\n",
       "      <th></th>\n",
       "      <th></th>\n",
       "      <th>benchmark_duration(diff)</th>\n",
       "    </tr>\n",
       "    <tr>\n",
       "      <th>gpu_0_appli</th>\n",
       "      <th>gpu_0_appli_class</th>\n",
       "      <th></th>\n",
       "    </tr>\n",
       "  </thead>\n",
       "  <tbody>\n",
       "    <tr>\n",
       "      <th>ep</th>\n",
       "      <th>E</th>\n",
       "      <td>68.380255</td>\n",
       "    </tr>\n",
       "    <tr>\n",
       "      <th>idle</th>\n",
       "      <th>sh</th>\n",
       "      <td>60.003566</td>\n",
       "    </tr>\n",
       "    <tr>\n",
       "      <th>lu</th>\n",
       "      <th>D</th>\n",
       "      <td>204.460075</td>\n",
       "    </tr>\n",
       "    <tr>\n",
       "      <th>mg</th>\n",
       "      <th>D</th>\n",
       "      <td>155.603518</td>\n",
       "    </tr>\n",
       "  </tbody>\n",
       "</table>\n",
       "</div>"
      ],
      "text/plain": [
       "                               benchmark_duration(diff)\n",
       "gpu_0_appli gpu_0_appli_class                          \n",
       "ep          E                                 68.380255\n",
       "idle        sh                                60.003566\n",
       "lu          D                                204.460075\n",
       "mg          D                                155.603518"
      ]
     },
     "execution_count": 21,
     "metadata": {},
     "output_type": "execute_result"
    }
   ],
   "source": [
    "exp_table[(exp_table['tool_on_one_process']==False)&(exp_table['tool_name']=='codecarbon')].groupby(by=['gpu_0_appli','gpu_0_appli_class'])[['benchmark_duration(diff)']].mean()"
   ]
  },
  {
   "cell_type": "code",
   "execution_count": 22,
   "id": "e55ad3ca",
   "metadata": {},
   "outputs": [
    {
     "data": {
      "text/html": [
       "<div>\n",
       "<style scoped>\n",
       "    .dataframe tbody tr th:only-of-type {\n",
       "        vertical-align: middle;\n",
       "    }\n",
       "\n",
       "    .dataframe tbody tr th {\n",
       "        vertical-align: top;\n",
       "    }\n",
       "\n",
       "    .dataframe thead th {\n",
       "        text-align: right;\n",
       "    }\n",
       "</style>\n",
       "<table border=\"1\" class=\"dataframe\">\n",
       "  <thead>\n",
       "    <tr style=\"text-align: right;\">\n",
       "      <th></th>\n",
       "      <th></th>\n",
       "      <th>benchmark_duration(diff)</th>\n",
       "    </tr>\n",
       "    <tr>\n",
       "      <th>gpu_0_appli</th>\n",
       "      <th>gpu_0_appli_class</th>\n",
       "      <th></th>\n",
       "    </tr>\n",
       "  </thead>\n",
       "  <tbody>\n",
       "    <tr>\n",
       "      <th>ep</th>\n",
       "      <th>E</th>\n",
       "      <td>0.092619</td>\n",
       "    </tr>\n",
       "    <tr>\n",
       "      <th>idle</th>\n",
       "      <th>sh</th>\n",
       "      <td>0.000065</td>\n",
       "    </tr>\n",
       "    <tr>\n",
       "      <th>lu</th>\n",
       "      <th>D</th>\n",
       "      <td>0.083162</td>\n",
       "    </tr>\n",
       "    <tr>\n",
       "      <th>mg</th>\n",
       "      <th>D</th>\n",
       "      <td>1.347612</td>\n",
       "    </tr>\n",
       "  </tbody>\n",
       "</table>\n",
       "</div>"
      ],
      "text/plain": [
       "                               benchmark_duration(diff)\n",
       "gpu_0_appli gpu_0_appli_class                          \n",
       "ep          E                                  0.092619\n",
       "idle        sh                                 0.000065\n",
       "lu          D                                  0.083162\n",
       "mg          D                                  1.347612"
      ]
     },
     "execution_count": 22,
     "metadata": {},
     "output_type": "execute_result"
    }
   ],
   "source": [
    "exp_table[(exp_table['tool_on_one_process']==False)&(exp_table['tool_name']=='codecarbon')].groupby(by=['gpu_0_appli','gpu_0_appli_class'])[['benchmark_duration(diff)']].std()"
   ]
  },
  {
   "attachments": {},
   "cell_type": "markdown",
   "id": "00410312",
   "metadata": {},
   "source": [
    "The duration of the experiments range between 60 and 200 seconds, and its variation over ten experiments is unsignificant (below 1%)."
   ]
  },
  {
   "attachments": {},
   "cell_type": "markdown",
   "id": "12eb37d7",
   "metadata": {},
   "source": [
    "## Convert energy metrics to Joule"
   ]
  },
  {
   "cell_type": "code",
   "execution_count": 23,
   "id": "ffa48bb9",
   "metadata": {},
   "outputs": [],
   "source": [
    "exp_table['wattmetre_power_watt_energy_consumption(joule)'] = exp_table['wattmetre_power_watt_energy_consumption(kWh)'].apply(convert_energy_kWh_in_joules)*10**(-3)\n",
    "exp_table['bmc_node_power_watt_energy_consumption(joule)'] = exp_table['bmc_node_power_watt_energy_consumption(kWh)'].apply(convert_energy_kWh_in_joules)*10**(-3)\n",
    "exp_table['tool_energy_consumption(joule)_no_PUE'] = exp_table['tool_energy_consumption(kWh)_no_PUE'].apply(convert_energy_kWh_in_joules)*10**(-3)\n",
    "exp_table['tool_energy_joule_error'] = (exp_table['wattmetre_power_watt_energy_consumption(joule)'] - exp_table['tool_energy_consumption(joule)_no_PUE'])\n",
    "exp_table['tool_energy_joule_error_perc'] = (exp_table['wattmetre_power_watt_energy_consumption(joule)'] - exp_table['tool_energy_consumption(joule)_no_PUE'])/exp_table['wattmetre_power_watt_energy_consumption(joule)']"
   ]
  },
  {
   "cell_type": "code",
   "execution_count": 24,
   "id": "db5b7c83",
   "metadata": {},
   "outputs": [
    {
     "data": {
      "text/html": [
       "<div>\n",
       "<style scoped>\n",
       "    .dataframe tbody tr th:only-of-type {\n",
       "        vertical-align: middle;\n",
       "    }\n",
       "\n",
       "    .dataframe tbody tr th {\n",
       "        vertical-align: top;\n",
       "    }\n",
       "\n",
       "    .dataframe thead th {\n",
       "        text-align: right;\n",
       "    }\n",
       "</style>\n",
       "<table border=\"1\" class=\"dataframe\">\n",
       "  <thead>\n",
       "    <tr style=\"text-align: right;\">\n",
       "      <th></th>\n",
       "      <th>mean</th>\n",
       "      <th>std</th>\n",
       "    </tr>\n",
       "    <tr>\n",
       "      <th>tool_name</th>\n",
       "      <th></th>\n",
       "      <th></th>\n",
       "    </tr>\n",
       "  </thead>\n",
       "  <tbody>\n",
       "    <tr>\n",
       "      <th>NoTool</th>\n",
       "      <td>NaN</td>\n",
       "      <td>NaN</td>\n",
       "    </tr>\n",
       "    <tr>\n",
       "      <th>carbon_tracker</th>\n",
       "      <td>0.384368</td>\n",
       "      <td>0.051633</td>\n",
       "    </tr>\n",
       "    <tr>\n",
       "      <th>codecarbon</th>\n",
       "      <td>0.195056</td>\n",
       "      <td>0.014620</td>\n",
       "    </tr>\n",
       "    <tr>\n",
       "      <th>energy scope</th>\n",
       "      <td>0.308434</td>\n",
       "      <td>0.062682</td>\n",
       "    </tr>\n",
       "    <tr>\n",
       "      <th>experiment_impact_tracker</th>\n",
       "      <td>0.442196</td>\n",
       "      <td>0.251787</td>\n",
       "    </tr>\n",
       "  </tbody>\n",
       "</table>\n",
       "</div>"
      ],
      "text/plain": [
       "                               mean       std\n",
       "tool_name                                    \n",
       "NoTool                          NaN       NaN\n",
       "carbon_tracker             0.384368  0.051633\n",
       "codecarbon                 0.195056  0.014620\n",
       "energy scope               0.308434  0.062682\n",
       "experiment_impact_tracker  0.442196  0.251787"
      ]
     },
     "execution_count": 24,
     "metadata": {},
     "output_type": "execute_result"
    }
   ],
   "source": [
    "exp_table[exp_table['tool_on_one_process']==False].groupby(by=['tool_name']).agg(['mean','std'])['tool_energy_joule_error_perc']"
   ]
  },
  {
   "cell_type": "code",
   "execution_count": 25,
   "id": "e56c61bd",
   "metadata": {},
   "outputs": [
    {
     "data": {
      "text/plain": [
       "array(['carbon_tracker', 'codecarbon', 'experiment_impact_tracker',\n",
       "       'energy scope', 'NoTool'], dtype=object)"
      ]
     },
     "execution_count": 25,
     "metadata": {},
     "output_type": "execute_result"
    }
   ],
   "source": [
    "exp_table['tool_name'].unique()"
   ]
  },
  {
   "attachments": {},
   "cell_type": "markdown",
   "id": "accc8f5c",
   "metadata": {},
   "source": [
    "## Modify the name so they fit into the graph"
   ]
  },
  {
   "cell_type": "code",
   "execution_count": 26,
   "id": "50807004",
   "metadata": {},
   "outputs": [
    {
     "data": {
      "text/plain": [
       "0        CT\n",
       "1        CT\n",
       "2        CT\n",
       "3        CT\n",
       "4        CT\n",
       "       ... \n",
       "277      CC\n",
       "278    None\n",
       "279    None\n",
       "280    None\n",
       "281    None\n",
       "Name: tool_name, Length: 282, dtype: object"
      ]
     },
     "execution_count": 26,
     "metadata": {},
     "output_type": "execute_result"
    }
   ],
   "source": [
    "plot_df = exp_table.copy()\n",
    "\n",
    "def modify_tool_name(cell):\n",
    "    if cell == 'carbon_tracker':\n",
    "        return 'CT'\n",
    "    if cell == 'codecarbon':\n",
    "        return 'CC'\n",
    "    if cell == 'energy scope':\n",
    "        return 'ES'\n",
    "    if cell == 'experiment_impact_tracker':\n",
    "        return 'EIT'\n",
    "    if cell == 'NoTool':\n",
    "        return 'None'\n",
    "\n",
    "plot_df['tool_name'] = plot_df['tool_name'].apply(modify_tool_name)\n",
    "plot_df['tool_name']"
   ]
  },
  {
   "attachments": {},
   "cell_type": "markdown",
   "id": "a60e4971",
   "metadata": {},
   "source": [
    "## Add energy calculators to the table\n",
    "Computations are made in 'online tools.ipynb'."
   ]
  },
  {
   "cell_type": "code",
   "execution_count": 27,
   "id": "6fd90f72",
   "metadata": {},
   "outputs": [
    {
     "data": {
      "text/html": [
       "<div>\n",
       "<style scoped>\n",
       "    .dataframe tbody tr th:only-of-type {\n",
       "        vertical-align: middle;\n",
       "    }\n",
       "\n",
       "    .dataframe tbody tr th {\n",
       "        vertical-align: top;\n",
       "    }\n",
       "\n",
       "    .dataframe thead th {\n",
       "        text-align: right;\n",
       "    }\n",
       "</style>\n",
       "<table border=\"1\" class=\"dataframe\">\n",
       "  <thead>\n",
       "    <tr style=\"text-align: right;\">\n",
       "      <th></th>\n",
       "      <th>External\\npower meter</th>\n",
       "      <th>BMC</th>\n",
       "      <th>Tool</th>\n",
       "      <th>Offset</th>\n",
       "      <th>tool_name</th>\n",
       "      <th>gpu_0_appli</th>\n",
       "      <th>gpu_0_appli_class</th>\n",
       "      <th>tool_on_one_process</th>\n",
       "    </tr>\n",
       "  </thead>\n",
       "  <tbody>\n",
       "    <tr>\n",
       "      <th>0</th>\n",
       "      <td>175665.6</td>\n",
       "      <td>152326.8</td>\n",
       "      <td>176174.4</td>\n",
       "      <td>508.8</td>\n",
       "      <td>GA</td>\n",
       "      <td>ep</td>\n",
       "      <td>E</td>\n",
       "      <td>False</td>\n",
       "    </tr>\n",
       "    <tr>\n",
       "      <th>1</th>\n",
       "      <td>405903.6</td>\n",
       "      <td>366130.8</td>\n",
       "      <td>381643.2</td>\n",
       "      <td>24260.4</td>\n",
       "      <td>GA</td>\n",
       "      <td>lu</td>\n",
       "      <td>D</td>\n",
       "      <td>False</td>\n",
       "    </tr>\n",
       "    <tr>\n",
       "      <th>2</th>\n",
       "      <td>168228.0</td>\n",
       "      <td>146700.0</td>\n",
       "      <td>134329.2</td>\n",
       "      <td>33898.8</td>\n",
       "      <td>GA</td>\n",
       "      <td>mg</td>\n",
       "      <td>D</td>\n",
       "      <td>False</td>\n",
       "    </tr>\n",
       "    <tr>\n",
       "      <th>3</th>\n",
       "      <td>175665.6</td>\n",
       "      <td>152326.8</td>\n",
       "      <td>163200.0</td>\n",
       "      <td>12465.6</td>\n",
       "      <td>MCI</td>\n",
       "      <td>ep</td>\n",
       "      <td>E</td>\n",
       "      <td>False</td>\n",
       "    </tr>\n",
       "    <tr>\n",
       "      <th>4</th>\n",
       "      <td>405903.6</td>\n",
       "      <td>366130.8</td>\n",
       "      <td>342720.0</td>\n",
       "      <td>63183.6</td>\n",
       "      <td>MCI</td>\n",
       "      <td>lu</td>\n",
       "      <td>D</td>\n",
       "      <td>False</td>\n",
       "    </tr>\n",
       "    <tr>\n",
       "      <th>5</th>\n",
       "      <td>168228.0</td>\n",
       "      <td>146700.0</td>\n",
       "      <td>276320.0</td>\n",
       "      <td>108092.0</td>\n",
       "      <td>MCI</td>\n",
       "      <td>mg</td>\n",
       "      <td>D</td>\n",
       "      <td>False</td>\n",
       "    </tr>\n",
       "  </tbody>\n",
       "</table>\n",
       "</div>"
      ],
      "text/plain": [
       "   External\\npower meter       BMC      Tool    Offset tool_name gpu_0_appli  \\\n",
       "0               175665.6  152326.8  176174.4     508.8        GA          ep   \n",
       "1               405903.6  366130.8  381643.2   24260.4        GA          lu   \n",
       "2               168228.0  146700.0  134329.2   33898.8        GA          mg   \n",
       "3               175665.6  152326.8  163200.0   12465.6       MCI          ep   \n",
       "4               405903.6  366130.8  342720.0   63183.6       MCI          lu   \n",
       "5               168228.0  146700.0  276320.0  108092.0       MCI          mg   \n",
       "\n",
       "  gpu_0_appli_class  tool_on_one_process  \n",
       "0                 E                False  \n",
       "1                 D                False  \n",
       "2                 D                False  \n",
       "3                 E                False  \n",
       "4                 D                False  \n",
       "5                 D                False  "
      ]
     },
     "execution_count": 27,
     "metadata": {},
     "output_type": "execute_result"
    }
   ],
   "source": [
    "# CPU benchmarks\n",
    "to_concat = {\n",
    "    'External\\npower meter':[58014.0, 35114.4, 154180.8, 58014.0, 35114.4, 154180.8], \n",
    "    'BMC':[48024.0, 26712.0, 134028.0, 48024.0, 26712.0, 134028.0], \n",
    "    'Tool':[22740.0, 13644.0, 56850.0, 13500, 8100, 33750], \n",
    "    'Offset':[35274, 21470.4, 97330.8, 44514.0, 27014.4, 120430.8], \n",
    "    'tool_name':['GA', 'GA', 'GA', 'MCI', 'MCI', 'MCI'], \n",
    "    'gpu_0_appli':['ep', 'lu', 'mg', 'ep', 'lu', 'mg'],\n",
    "    'gpu_0_appli_class':['D', 'C', 'D', 'D', 'C', 'D'],\n",
    "    'tool_on_one_process':[False,False,False,False,False,False]\n",
    "    }\n",
    "df_to_concat = pd.DataFrame(to_concat)\n",
    "df_to_concat\n",
    "\n",
    "# TO DELETE IS FOCUSING ON CPU BENCHMARKS\n",
    "# GPU benchmarks \n",
    "to_concat = {\n",
    "    'External\\npower meter':[175665.6, 405903.6, 168228.0, 175665.6, 405903.6, 168228.0], \n",
    "    'BMC':[152326.8, 366130.8, 146700.0, 152326.8, 366130.8, 146700.0], \n",
    "    'Tool':[176174.4, 381643.2, 134329.2, 163200.0, 342720.0, 276320.0], \n",
    "    'Offset':[508.8, 24260.4, 33898.8, 12465.6, 63183.6, 108092.0], \n",
    "    'tool_name':['GA', 'GA', 'GA', 'MCI', 'MCI', 'MCI'], \n",
    "    'gpu_0_appli':['ep', 'lu', 'mg', 'ep', 'lu', 'mg'],\n",
    "    'gpu_0_appli_class':['E', 'D', 'D', 'E', 'D', 'D'],\n",
    "    'tool_on_one_process':[False,False,False,False,False,False]\n",
    "    }\n",
    "df_to_concat = pd.DataFrame(to_concat)\n",
    "df_to_concat\n"
   ]
  },
  {
   "cell_type": "code",
   "execution_count": 28,
   "id": "4731d7cf",
   "metadata": {},
   "outputs": [],
   "source": [
    "df_to_concat['External\\npower meter'] = df_to_concat['External\\npower meter']*10**(-3)\n",
    "df_to_concat['BMC'] = df_to_concat['BMC']*10**(-3)\n",
    "df_to_concat['Tool'] = df_to_concat['Tool']*10**(-3)\n",
    "df_to_concat['Offset'] = df_to_concat['Offset']*10**(-3)"
   ]
  },
  {
   "cell_type": "code",
   "execution_count": 29,
   "id": "31a83dfc",
   "metadata": {},
   "outputs": [
    {
     "data": {
      "text/html": [
       "<div>\n",
       "<style scoped>\n",
       "    .dataframe tbody tr th:only-of-type {\n",
       "        vertical-align: middle;\n",
       "    }\n",
       "\n",
       "    .dataframe tbody tr th {\n",
       "        vertical-align: top;\n",
       "    }\n",
       "\n",
       "    .dataframe thead th {\n",
       "        text-align: right;\n",
       "    }\n",
       "</style>\n",
       "<table border=\"1\" class=\"dataframe\">\n",
       "  <thead>\n",
       "    <tr style=\"text-align: right;\">\n",
       "      <th></th>\n",
       "      <th>External\\npower meter</th>\n",
       "      <th>BMC</th>\n",
       "      <th>Tool</th>\n",
       "      <th>Offset</th>\n",
       "      <th>tool_name</th>\n",
       "      <th>gpu_0_appli</th>\n",
       "      <th>gpu_0_appli_class</th>\n",
       "      <th>tool_on_one_process</th>\n",
       "    </tr>\n",
       "  </thead>\n",
       "  <tbody>\n",
       "    <tr>\n",
       "      <th>0</th>\n",
       "      <td>175.6656</td>\n",
       "      <td>152.3268</td>\n",
       "      <td>176.1744</td>\n",
       "      <td>0.5088</td>\n",
       "      <td>GA</td>\n",
       "      <td>ep</td>\n",
       "      <td>E</td>\n",
       "      <td>False</td>\n",
       "    </tr>\n",
       "    <tr>\n",
       "      <th>1</th>\n",
       "      <td>405.9036</td>\n",
       "      <td>366.1308</td>\n",
       "      <td>381.6432</td>\n",
       "      <td>24.2604</td>\n",
       "      <td>GA</td>\n",
       "      <td>lu</td>\n",
       "      <td>D</td>\n",
       "      <td>False</td>\n",
       "    </tr>\n",
       "    <tr>\n",
       "      <th>2</th>\n",
       "      <td>168.2280</td>\n",
       "      <td>146.7000</td>\n",
       "      <td>134.3292</td>\n",
       "      <td>33.8988</td>\n",
       "      <td>GA</td>\n",
       "      <td>mg</td>\n",
       "      <td>D</td>\n",
       "      <td>False</td>\n",
       "    </tr>\n",
       "    <tr>\n",
       "      <th>3</th>\n",
       "      <td>175.6656</td>\n",
       "      <td>152.3268</td>\n",
       "      <td>163.2000</td>\n",
       "      <td>12.4656</td>\n",
       "      <td>MCI</td>\n",
       "      <td>ep</td>\n",
       "      <td>E</td>\n",
       "      <td>False</td>\n",
       "    </tr>\n",
       "    <tr>\n",
       "      <th>4</th>\n",
       "      <td>405.9036</td>\n",
       "      <td>366.1308</td>\n",
       "      <td>342.7200</td>\n",
       "      <td>63.1836</td>\n",
       "      <td>MCI</td>\n",
       "      <td>lu</td>\n",
       "      <td>D</td>\n",
       "      <td>False</td>\n",
       "    </tr>\n",
       "    <tr>\n",
       "      <th>5</th>\n",
       "      <td>168.2280</td>\n",
       "      <td>146.7000</td>\n",
       "      <td>276.3200</td>\n",
       "      <td>108.0920</td>\n",
       "      <td>MCI</td>\n",
       "      <td>mg</td>\n",
       "      <td>D</td>\n",
       "      <td>False</td>\n",
       "    </tr>\n",
       "  </tbody>\n",
       "</table>\n",
       "</div>"
      ],
      "text/plain": [
       "   External\\npower meter       BMC      Tool    Offset tool_name gpu_0_appli  \\\n",
       "0               175.6656  152.3268  176.1744    0.5088        GA          ep   \n",
       "1               405.9036  366.1308  381.6432   24.2604        GA          lu   \n",
       "2               168.2280  146.7000  134.3292   33.8988        GA          mg   \n",
       "3               175.6656  152.3268  163.2000   12.4656       MCI          ep   \n",
       "4               405.9036  366.1308  342.7200   63.1836       MCI          lu   \n",
       "5               168.2280  146.7000  276.3200  108.0920       MCI          mg   \n",
       "\n",
       "  gpu_0_appli_class  tool_on_one_process  \n",
       "0                 E                False  \n",
       "1                 D                False  \n",
       "2                 D                False  \n",
       "3                 E                False  \n",
       "4                 D                False  \n",
       "5                 D                False  "
      ]
     },
     "execution_count": 29,
     "metadata": {},
     "output_type": "execute_result"
    }
   ],
   "source": [
    "df_to_concat"
   ]
  },
  {
   "attachments": {},
   "cell_type": "markdown",
   "id": "182b2ab8",
   "metadata": {},
   "source": [
    "## Plots"
   ]
  },
  {
   "cell_type": "code",
   "execution_count": 30,
   "id": "8d04aebc",
   "metadata": {},
   "outputs": [],
   "source": [
    "from matplotlib import hatch\n",
    "\n",
    "def bar_plot(df, new_cols, group_by_cols, fontsize=45):\n",
    "    figsize = (24,6)\n",
    "    exp_nb = len(list(df.groupby(['gpu_0_appli','gpu_0_appli_class']).count().index)) -1\n",
    "    fig, axes = plt.subplots(\n",
    "        1, \n",
    "        exp_nb, \n",
    "        figsize=figsize,\n",
    "        sharex=False, \n",
    "        sharey=False,\n",
    "    )\n",
    "    i=0\n",
    "    hatches=['.', '/', 'o', '//']\n",
    "    for appli, appli_class in list(df.groupby(['gpu_0_appli','gpu_0_appli_class']).count().index):\n",
    "        title = \"{} NAS Benchmark\".format(appli.upper(), appli_class)\n",
    "        if appli=='idle':\n",
    "            title='Idle (60 seconds)'\n",
    "            continue\n",
    "        table = df[\n",
    "            (df['gpu_0_appli']==appli\n",
    "            )&(\n",
    "            df['gpu_0_appli_class']==appli_class\n",
    "            )&(\n",
    "            df['tool_on_one_process']==False\n",
    "            )&(\n",
    "            df['tool_name']!='None'\n",
    "            )].sort_values('tool_order')\n",
    "        axes[i] = table.groupby(by=group_by_cols).mean().sort_values('tool_order').plot(\n",
    "            ax=axes[i], \n",
    "            y=new_cols,\n",
    "            yerr=table.groupby(by=group_by_cols).std().sort_values('tool_order'),\n",
    "            kind='bar',\n",
    "            rot=20,\n",
    "            fontsize=fontsize-7,\n",
    "            capsize=4,\n",
    "            linewidth=2,\n",
    "            width=0.75,\n",
    "            alpha=0.8,\n",
    "            )\n",
    "        #axes[i].ticklabel_format(axis=\"y\", style=\"sci\", scilimits=(0,0))\n",
    "        axes[i].set_ylim(bottom=0)\n",
    "        if i==0:\n",
    "            axes[i].set_ylabel('Energy (kJ)', fontsize=fontsize)\n",
    "        axes[i].set_xlabel('')\n",
    "        # if i==0:\n",
    "        #     axes[i].legend(bbox_to_anchor=(0, -0.5), fontsize=fontsize, ncol=3,loc='upper left')\n",
    "        # else:\n",
    "        axes[i].get_legend().remove()\n",
    "        axes[i].set_title(title, fontsize=fontsize) #  y=-0.12, \n",
    "        i+=1\n",
    "    fig.tight_layout()\n",
    "    fig.savefig(\"/Users/mathildepro/Documents/code_projects/GPU_benchmarks/graphes/bar_energy_plots.pdf\")\n"
   ]
  },
  {
   "cell_type": "code",
   "execution_count": 31,
   "id": "e77a04eb",
   "metadata": {},
   "outputs": [],
   "source": [
    "\n",
    "cols = ['wattmetre_power_watt_energy_consumption(joule)', 'bmc_node_power_watt_energy_consumption(joule)', 'tool_energy_consumption(joule)_no_PUE'] #, 'tool_energy_joule_error'] #'tool_energy_joule_error_perc']\n",
    "new_cols = ['External\\npower meter', 'BMC', 'Tool'] #, 'Offset'] #, 'perc. offset \\n|Wattmetre - Tool|/Wattmetre']\n",
    "plot_df = plot_df.rename(columns={cols[i]: new_cols[i] for i in range(len(cols))})\n",
    "concated_df = pd.concat([plot_df[plot_df['Tool']>0], df_to_concat])\n",
    "\n",
    "order = ['ES', 'CT', 'CC','EIT', 'GA', 'MCI']\n",
    "mapping = {tool_name:i for i, tool_name in enumerate(order)}\n",
    "concated_df['tool_order'] = concated_df['tool_name'].map(mapping)    \n",
    "concated_df = concated_df.sort_values('tool_order')\n",
    "\n",
    "# group_by_cols = ['gpu_0_appli','gpu_0_appli_class','tool_name']\n",
    "group_by_cols = ['tool_name']\n"
   ]
  },
  {
   "cell_type": "code",
   "execution_count": 32,
   "id": "4ae9d123",
   "metadata": {},
   "outputs": [
    {
     "data": {
      "text/plain": [
       "array(['ES', 'CT', 'CC', 'EIT', 'GA', 'MCI'], dtype=object)"
      ]
     },
     "execution_count": 32,
     "metadata": {},
     "output_type": "execute_result"
    }
   ],
   "source": [
    "concated_df['tool_name'].unique()"
   ]
  },
  {
   "cell_type": "code",
   "execution_count": 33,
   "id": "ae3d89a6",
   "metadata": {},
   "outputs": [
    {
     "data": {
      "image/png": "[encoded data removed]",
      "text/plain": [
       "<Figure size 1728x432 with 3 Axes>"
      ]
     },
     "metadata": {
      "needs_background": "light"
     },
     "output_type": "display_data"
    }
   ],
   "source": [
    "bar_plot(concated_df, new_cols, group_by_cols)"
   ]
  },
  {
   "attachments": {},
   "cell_type": "markdown",
   "id": "a5c00323",
   "metadata": {},
   "source": [
    "This graphs was used in the paper. All comments are made there."
   ]
  }
 ],
 "metadata": {
  "kernelspec": {
   "display_name": "impact_tracker",
   "language": "python",
   "name": "python3"
  },
  "language_info": {
   "codemirror_mode": {
    "name": "ipython",
    "version": 3
   },
   "file_extension": ".py",
   "mimetype": "text/x-python",
   "name": "python",
   "nbconvert_exporter": "python",
   "pygments_lexer": "ipython3",
   "version": "3.9.9"
  },
  "vscode": {
   "interpreter": {
    "hash": "d2f01e6addf10d99c4377fd4aee22424e03f845310e6d3be8dbc2198a855742e"
   }
  }
 },
 "nbformat": 4,
 "nbformat_minor": 5
}

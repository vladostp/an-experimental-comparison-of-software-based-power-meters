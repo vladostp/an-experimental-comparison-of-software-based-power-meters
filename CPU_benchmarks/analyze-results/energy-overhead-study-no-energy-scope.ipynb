{
 "cells": [
  {
   "attachments": {},
   "cell_type": "markdown",
   "id": "de0a0843-d97a-4045-bb0e-01fe3178e683",
   "metadata": {},
   "source": [
    "# Energy overhead study\n",
    "In this notebook, we study the additional energy cost of each solution. We proceed by comparing the energy consumed by executions with and without tools."
   ]
  },
  {
   "attachments": {},
   "cell_type": "markdown",
   "id": "abd5d924",
   "metadata": {},
   "source": [
    "## Import necessary libraries"
   ]
  },
  {
   "cell_type": "code",
   "execution_count": 1,
   "id": "461c1a6c-f4cc-4432-befb-2b1908358aac",
   "metadata": {},
   "outputs": [],
   "source": [
    "%load_ext autoreload\n",
    "%autoreload 2\n",
    "\n",
    "from visualize import *\n",
    "import seaborn as sns\n",
    "import matplotlib.pyplot as plt"
   ]
  },
  {
   "attachments": {},
   "cell_type": "markdown",
   "id": "f7bb2096-4aec-42bc-accd-4c55aa80e3c5",
   "metadata": {},
   "source": [
    "## Load experiment results"
   ]
  },
  {
   "cell_type": "code",
   "execution_count": 2,
   "id": "0aea20f6-178e-4450-bd6d-ad2d4a4fc663",
   "metadata": {},
   "outputs": [],
   "source": [
    "experiments_path = [\n",
    "    '3-solutions-compare-gemini-1.lyon.grid5000.fr-2022-09-28-17_43_02',\n",
    "    '3-solutions-compare-gemini-1.lyon.grid5000.fr-2022-09-28-18_13_34',\n",
    "    '3-solutions-compare-gemini-1.lyon.grid5000.fr-2022-09-28-18_44_13',\n",
    "    '3-solutions-compare-gemini-1.lyon.grid5000.fr-2022-09-28-19_14_33',\n",
    "    '3-solutions-compare-gemini-1.lyon.grid5000.fr-2022-09-28-19_45_01',\n",
    "    '3-solutions-compare-gemini-1.lyon.grid5000.fr-2022-09-28-20_15_24',\n",
    "    '3-solutions-compare-gemini-1.lyon.grid5000.fr-2022-09-28-20_46_11',\n",
    "    '3-solutions-compare-gemini-1.lyon.grid5000.fr-2022-09-28-21_17_22',\n",
    "    '3-solutions-compare-gemini-1.lyon.grid5000.fr-2022-09-28-21_48_15',\n",
    "    '3-solutions-compare-gemini-1.lyon.grid5000.fr-2022-09-28-22_18_42'\n",
    "]\n",
    "\n",
    "experiments_no_solution_path = [\n",
    "    'no-solution-gemini-1.lyon.grid5000.fr-2022-09-28-22_28_49',\n",
    "    'no-solution-gemini-1.lyon.grid5000.fr-2022-09-28-22_38_27',\n",
    "    'no-solution-gemini-1.lyon.grid5000.fr-2022-09-28-22_47_56',\n",
    "    'no-solution-gemini-1.lyon.grid5000.fr-2022-09-28-22_57_28',\n",
    "    'no-solution-gemini-1.lyon.grid5000.fr-2022-09-28-23_07_17',\n",
    "    'no-solution-gemini-1.lyon.grid5000.fr-2022-09-28-23_16_57',\n",
    "    'no-solution-gemini-1.lyon.grid5000.fr-2022-09-28-23_26_44',\n",
    "    'no-solution-gemini-1.lyon.grid5000.fr-2022-09-28-23_36_31',\n",
    "    'no-solution-gemini-1.lyon.grid5000.fr-2022-09-28-23_46_05',\n",
    "    'no-solution-gemini-1.lyon.grid5000.fr-2022-09-28-23_55_46'\n",
    "]\n",
    "\n",
    "experiments = []\n",
    "for experiment_path in experiments_path:\n",
    "    experiments.append(parse_experiment(\"../results/%s\" % experiment_path))\n",
    "\n",
    "experiments_no_solution = []\n",
    "for experiment_path in experiments_no_solution_path:\n",
    "    experiments_no_solution.append(parse_experiment(\"../results/%s\" % experiment_path))\n",
    "\n",
    "# Additional processing is required for Scaphandre dataframes\n",
    "# Scaphandre by component result dataframes will be joined into a single dataframe\n",
    "process_scaphandre_dataframes(experiments)"
   ]
  },
  {
   "attachments": {},
   "cell_type": "markdown",
   "id": "38c0ce21-812f-4625-bb6c-099d550d86c3",
   "metadata": {},
   "source": [
    "## Calculate energy overhead "
   ]
  },
  {
   "cell_type": "code",
   "execution_count": 3,
   "id": "a78c5703",
   "metadata": {},
   "outputs": [],
   "source": [
    "# Convert 10 experiments to by benchmark set of experiments for every solution\n",
    "benchmarks_powerapi = convert_exp_into_benchmark_dataframes(experiments, 'PowerAPI' ,'powerapi', 0)\n",
    "benchmarks_scaphandre = convert_exp_into_benchmark_dataframes(experiments, 'Scaphandre' ,'scaphandre', 0)\n",
    "benchmarks_no_solution = convert_exp_into_benchmark_dataframes(experiments_no_solution, 'Kwollect', 'kwollect', 0)\n",
    "\n",
    "\n",
    "# Calculate total consumption for each dataframe\n",
    "result_df = pd.DataFrame(columns=['benchmark', 'tool', 'value'])\n",
    "result_df = calculate_total_consumption(result_df, benchmarks_no_solution, 'no_tool')\n",
    "result_df = calculate_total_consumption(result_df, benchmarks_powerapi, 'powerapi')\n",
    "result_df = calculate_total_consumption(result_df, benchmarks_scaphandre, 'scaphandre')\n",
    "\n",
    "# Associate a no_tool measure that is the median value of all no tool measures for a specific benchmark\n",
    "result_df['no_tool_measure'] = result_df.apply(\n",
    "        lambda row: result_df[(result_df['benchmark'] == row['benchmark']) & (result_df['tool'] == 'no_tool')]['value'].median(), \n",
    "        axis=1)\n",
    "\n",
    "# Calculate overhead in percentage\n",
    "result_df['overhead'] = (1 - result_df['no_tool_measure']/result_df['value']) * 100"
   ]
  },
  {
   "attachments": {},
   "cell_type": "markdown",
   "id": "36dff41e",
   "metadata": {},
   "source": [
    "## Show energy overhead statistics"
   ]
  },
  {
   "attachments": {},
   "cell_type": "markdown",
   "id": "31da032b",
   "metadata": {},
   "source": [
    "### Overhead by tool"
   ]
  },
  {
   "cell_type": "code",
   "execution_count": 4,
   "id": "f1283e5f",
   "metadata": {},
   "outputs": [
    {
     "data": {
      "text/html": [
       "<div>\n",
       "<style scoped>\n",
       "    .dataframe tbody tr th:only-of-type {\n",
       "        vertical-align: middle;\n",
       "    }\n",
       "\n",
       "    .dataframe tbody tr th {\n",
       "        vertical-align: top;\n",
       "    }\n",
       "\n",
       "    .dataframe thead tr th {\n",
       "        text-align: left;\n",
       "    }\n",
       "\n",
       "    .dataframe thead tr:last-of-type th {\n",
       "        text-align: right;\n",
       "    }\n",
       "</style>\n",
       "<table border=\"1\" class=\"dataframe\">\n",
       "  <thead>\n",
       "    <tr>\n",
       "      <th></th>\n",
       "      <th colspan=\"2\" halign=\"left\">overhead</th>\n",
       "    </tr>\n",
       "    <tr>\n",
       "      <th></th>\n",
       "      <th>mean</th>\n",
       "      <th>std</th>\n",
       "    </tr>\n",
       "    <tr>\n",
       "      <th>tool</th>\n",
       "      <th></th>\n",
       "      <th></th>\n",
       "    </tr>\n",
       "  </thead>\n",
       "  <tbody>\n",
       "    <tr>\n",
       "      <th>no_tool</th>\n",
       "      <td>0.532120</td>\n",
       "      <td>3.450072</td>\n",
       "    </tr>\n",
       "    <tr>\n",
       "      <th>powerapi</th>\n",
       "      <td>-1.307126</td>\n",
       "      <td>4.265919</td>\n",
       "    </tr>\n",
       "    <tr>\n",
       "      <th>scaphandre</th>\n",
       "      <td>2.563689</td>\n",
       "      <td>4.020659</td>\n",
       "    </tr>\n",
       "  </tbody>\n",
       "</table>\n",
       "</div>"
      ],
      "text/plain": [
       "            overhead          \n",
       "                mean       std\n",
       "tool                          \n",
       "no_tool     0.532120  3.450072\n",
       "powerapi   -1.307126  4.265919\n",
       "scaphandre  2.563689  4.020659"
      ]
     },
     "execution_count": 4,
     "metadata": {},
     "output_type": "execute_result"
    }
   ],
   "source": [
    "result_df.groupby(['tool'])[['overhead']].agg(['mean','std'])"
   ]
  },
  {
   "attachments": {},
   "cell_type": "markdown",
   "id": "95f44528",
   "metadata": {},
   "source": [
    "### Overhead by benchmark and by tool"
   ]
  },
  {
   "cell_type": "code",
   "execution_count": 5,
   "id": "7246a4b7",
   "metadata": {},
   "outputs": [
    {
     "data": {
      "text/html": [
       "<div>\n",
       "<style scoped>\n",
       "    .dataframe tbody tr th:only-of-type {\n",
       "        vertical-align: middle;\n",
       "    }\n",
       "\n",
       "    .dataframe tbody tr th {\n",
       "        vertical-align: top;\n",
       "    }\n",
       "\n",
       "    .dataframe thead tr th {\n",
       "        text-align: left;\n",
       "    }\n",
       "\n",
       "    .dataframe thead tr:last-of-type th {\n",
       "        text-align: right;\n",
       "    }\n",
       "</style>\n",
       "<table border=\"1\" class=\"dataframe\">\n",
       "  <thead>\n",
       "    <tr>\n",
       "      <th></th>\n",
       "      <th></th>\n",
       "      <th colspan=\"2\" halign=\"left\">overhead</th>\n",
       "    </tr>\n",
       "    <tr>\n",
       "      <th></th>\n",
       "      <th></th>\n",
       "      <th>mean</th>\n",
       "      <th>std</th>\n",
       "    </tr>\n",
       "    <tr>\n",
       "      <th>tool</th>\n",
       "      <th>benchmark</th>\n",
       "      <th></th>\n",
       "      <th></th>\n",
       "    </tr>\n",
       "  </thead>\n",
       "  <tbody>\n",
       "    <tr>\n",
       "      <th rowspan=\"3\" valign=\"top\">no_tool</th>\n",
       "      <th>EP D NAS Benchmark</th>\n",
       "      <td>0.597147</td>\n",
       "      <td>0.983380</td>\n",
       "    </tr>\n",
       "    <tr>\n",
       "      <th>LU C NAS Benchmark</th>\n",
       "      <td>0.631794</td>\n",
       "      <td>2.257293</td>\n",
       "    </tr>\n",
       "    <tr>\n",
       "      <th>MG D NAS Benchmark</th>\n",
       "      <td>0.367420</td>\n",
       "      <td>5.678539</td>\n",
       "    </tr>\n",
       "    <tr>\n",
       "      <th rowspan=\"3\" valign=\"top\">powerapi</th>\n",
       "      <th>EP D NAS Benchmark</th>\n",
       "      <td>0.059573</td>\n",
       "      <td>0.063560</td>\n",
       "    </tr>\n",
       "    <tr>\n",
       "      <th>LU C NAS Benchmark</th>\n",
       "      <td>0.348087</td>\n",
       "      <td>2.030802</td>\n",
       "    </tr>\n",
       "    <tr>\n",
       "      <th>MG D NAS Benchmark</th>\n",
       "      <td>-4.329038</td>\n",
       "      <td>6.264490</td>\n",
       "    </tr>\n",
       "    <tr>\n",
       "      <th rowspan=\"3\" valign=\"top\">scaphandre</th>\n",
       "      <th>EP D NAS Benchmark</th>\n",
       "      <td>0.852285</td>\n",
       "      <td>1.030650</td>\n",
       "    </tr>\n",
       "    <tr>\n",
       "      <th>LU C NAS Benchmark</th>\n",
       "      <td>5.527431</td>\n",
       "      <td>3.024879</td>\n",
       "    </tr>\n",
       "    <tr>\n",
       "      <th>MG D NAS Benchmark</th>\n",
       "      <td>1.311350</td>\n",
       "      <td>5.207748</td>\n",
       "    </tr>\n",
       "  </tbody>\n",
       "</table>\n",
       "</div>"
      ],
      "text/plain": [
       "                               overhead          \n",
       "                                   mean       std\n",
       "tool       benchmark                             \n",
       "no_tool    EP D NAS Benchmark  0.597147  0.983380\n",
       "           LU C NAS Benchmark  0.631794  2.257293\n",
       "           MG D NAS Benchmark  0.367420  5.678539\n",
       "powerapi   EP D NAS Benchmark  0.059573  0.063560\n",
       "           LU C NAS Benchmark  0.348087  2.030802\n",
       "           MG D NAS Benchmark -4.329038  6.264490\n",
       "scaphandre EP D NAS Benchmark  0.852285  1.030650\n",
       "           LU C NAS Benchmark  5.527431  3.024879\n",
       "           MG D NAS Benchmark  1.311350  5.207748"
      ]
     },
     "execution_count": 5,
     "metadata": {},
     "output_type": "execute_result"
    }
   ],
   "source": [
    "result_df.groupby(['tool', 'benchmark'])[['overhead']].agg(['mean','std'])"
   ]
  },
  {
   "attachments": {},
   "cell_type": "markdown",
   "id": "d5ebe46b",
   "metadata": {},
   "source": [
    "## Plot energy overhead for EP benchmark"
   ]
  },
  {
   "cell_type": "code",
   "execution_count": 6,
   "id": "b481464c",
   "metadata": {},
   "outputs": [
    {
     "data": {
      "image/png": "[encoded data removed]",
      "text/plain": [
       "<Figure size 540x360 with 1 Axes>"
      ]
     },
     "metadata": {
      "needs_background": "light"
     },
     "output_type": "display_data"
    }
   ],
   "source": [
    "# Change benchmark names in plots\n",
    "result_df.loc[result_df['benchmark'] == 'EP D NAS Benchmark','benchmark'] = 'EP NAS Benchmark'\n",
    "result_df.loc[result_df['benchmark'] == 'LU C NAS Benchmark','benchmark'] = 'LU NAS Benchmark'\n",
    "result_df.loc[result_df['benchmark'] == 'MG D NAS Benchmark','benchmark'] = 'MG NAS Benchmark'\n",
    "result_df.loc[result_df['tool'] == 'no_tool','tool'] = 'Without tool'\n",
    "\n",
    "plt.rcParams.update({'font.size': 16})\n",
    "\n",
    "resulf_df_plot = result_df[result_df['benchmark'] == 'EP NAS Benchmark']\n",
    "\n",
    "ax = sns.catplot(x=\"tool\", y=\"overhead\",\n",
    "                 col=\"benchmark\",\n",
    "                 data=resulf_df_plot, \n",
    "                 kind=\"bar\",\n",
    "                 height=5,\n",
    "                 aspect=1.5,\n",
    "                 color=\"cornflowerblue\")\n",
    "\n",
    "ax.set_xticklabels(rotation=15)\n",
    "ax.set_xlabels(\"\")\n",
    "ax.set_ylabels(\"Energy overhead (%)\", fontsize=\"16\")\n",
    "ax.set(ylim=(-1, 2))\n",
    "ax.set_titles(template='{col_name}')\n",
    "\n",
    "ax.savefig('../figures/energy_overhead_no_energy_scope.pdf')\n",
    "ax.savefig('../figures/energy_overhead_no_energy_scope.png')"
   ]
  }
 ],
 "metadata": {
  "kernelspec": {
   "display_name": "Python 3",
   "language": "python",
   "name": "python3"
  },
  "language_info": {
   "codemirror_mode": {
    "name": "ipython",
    "version": 3
   },
   "file_extension": ".py",
   "mimetype": "text/x-python",
   "name": "python",
   "nbconvert_exporter": "python",
   "pygments_lexer": "ipython3",
   "version": "3.10.6"
  },
  "vscode": {
   "interpreter": {
    "hash": "e7370f93d1d0cde622a1f8e1c04877d8463912d04d973331ad4851f04de6915a"
   }
  }
 },
 "nbformat": 4,
 "nbformat_minor": 5
}
